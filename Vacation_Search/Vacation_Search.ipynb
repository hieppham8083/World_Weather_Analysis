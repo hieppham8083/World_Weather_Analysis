{
 "cells": [
  {
   "cell_type": "markdown",
   "metadata": {},
   "source": [
    "## Deliverable 2. Create a Customer Travel Destinations Map."
   ]
  },
  {
   "cell_type": "code",
   "execution_count": 17,
   "metadata": {},
   "outputs": [],
   "source": [
    "# Dependencies and Setup\n",
    "import pandas as pd\n",
    "import requests\n",
    "import gmaps\n",
    "\n",
    "# Import API key\n",
    "from config import g_key\n",
    "\n",
    "# Configure gmaps API key\n",
    "gmaps.configure(api_key=g_key)"
   ]
  },
  {
   "cell_type": "code",
   "execution_count": 18,
   "metadata": {},
   "outputs": [
    {
     "output_type": "execute_result",
     "data": {
      "text/plain": [
       "   City_ID          City Country      Lat       Lng  Max Temp  Humidity  \\\n",
       "0        0  Sierra Vista      US  31.5545 -110.3037     48.20        18   \n",
       "1        1     Ilulissat      GL  69.2167  -51.1000      8.60        56   \n",
       "2        2        Wajima      JP  37.4000  136.9000     26.60       100   \n",
       "3        3       Salalah      OM  17.0151   54.0924     77.94        27   \n",
       "4        4    Nikolskoye      RU  59.7035   30.7861     12.00        85   \n",
       "\n",
       "   Cloudiness  Wind Speed Current Description  \n",
       "0           1       10.36           clear sky  \n",
       "1          40       23.02          light snow  \n",
       "2          90        2.30                snow  \n",
       "3           0        9.53           clear sky  \n",
       "4           0        4.47           clear sky  "
      ],
      "text/html": "<div>\n<style scoped>\n    .dataframe tbody tr th:only-of-type {\n        vertical-align: middle;\n    }\n\n    .dataframe tbody tr th {\n        vertical-align: top;\n    }\n\n    .dataframe thead th {\n        text-align: right;\n    }\n</style>\n<table border=\"1\" class=\"dataframe\">\n  <thead>\n    <tr style=\"text-align: right;\">\n      <th></th>\n      <th>City_ID</th>\n      <th>City</th>\n      <th>Country</th>\n      <th>Lat</th>\n      <th>Lng</th>\n      <th>Max Temp</th>\n      <th>Humidity</th>\n      <th>Cloudiness</th>\n      <th>Wind Speed</th>\n      <th>Current Description</th>\n    </tr>\n  </thead>\n  <tbody>\n    <tr>\n      <th>0</th>\n      <td>0</td>\n      <td>Sierra Vista</td>\n      <td>US</td>\n      <td>31.5545</td>\n      <td>-110.3037</td>\n      <td>48.20</td>\n      <td>18</td>\n      <td>1</td>\n      <td>10.36</td>\n      <td>clear sky</td>\n    </tr>\n    <tr>\n      <th>1</th>\n      <td>1</td>\n      <td>Ilulissat</td>\n      <td>GL</td>\n      <td>69.2167</td>\n      <td>-51.1000</td>\n      <td>8.60</td>\n      <td>56</td>\n      <td>40</td>\n      <td>23.02</td>\n      <td>light snow</td>\n    </tr>\n    <tr>\n      <th>2</th>\n      <td>2</td>\n      <td>Wajima</td>\n      <td>JP</td>\n      <td>37.4000</td>\n      <td>136.9000</td>\n      <td>26.60</td>\n      <td>100</td>\n      <td>90</td>\n      <td>2.30</td>\n      <td>snow</td>\n    </tr>\n    <tr>\n      <th>3</th>\n      <td>3</td>\n      <td>Salalah</td>\n      <td>OM</td>\n      <td>17.0151</td>\n      <td>54.0924</td>\n      <td>77.94</td>\n      <td>27</td>\n      <td>0</td>\n      <td>9.53</td>\n      <td>clear sky</td>\n    </tr>\n    <tr>\n      <th>4</th>\n      <td>4</td>\n      <td>Nikolskoye</td>\n      <td>RU</td>\n      <td>59.7035</td>\n      <td>30.7861</td>\n      <td>12.00</td>\n      <td>85</td>\n      <td>0</td>\n      <td>4.47</td>\n      <td>clear sky</td>\n    </tr>\n  </tbody>\n</table>\n</div>"
     },
     "metadata": {},
     "execution_count": 18
    }
   ],
   "source": [
    "# 1. Import the WeatherPy_database.csv file. \n",
    "city_data_df = pd.read_csv(\"Weather_Database/WeatherPy_database.csv\")\n",
    "city_data_df.head()"
   ]
  },
  {
   "cell_type": "code",
   "execution_count": 19,
   "metadata": {},
   "outputs": [],
   "source": [
    "# 2. Prompt the user to enter minimum and maximum temperature criteria \n",
    "min_temp = float(input('What is the minimum temperature you would like for your trip? '))\n",
    "max_temp = float(input('What is the maximum temperature you would like for your trip? '))"
   ]
  },
  {
   "cell_type": "code",
   "execution_count": 20,
   "metadata": {},
   "outputs": [
    {
     "output_type": "execute_result",
     "data": {
      "text/plain": [
       "     City_ID           City Country      Lat       Lng  Max Temp  Humidity  \\\n",
       "3          3        Salalah      OM  17.0151   54.0924     77.94        27   \n",
       "5          5       Buchanan      LR   5.8808  -10.0467     77.00        94   \n",
       "7          7       Kousseri      CM  12.0769   15.0306     75.20        23   \n",
       "8          8      Hithadhoo      MV  -0.6000   73.0833     81.72        74   \n",
       "9          9        Rikitea      PF -23.1203 -134.9692     78.15        76   \n",
       "..       ...            ...     ...      ...       ...       ...       ...   \n",
       "654      654           Tura      IN  25.5198   90.2201     77.90        39   \n",
       "655      655      Mogadishu      SO   2.0371   45.3438     81.72        55   \n",
       "656      656    Sungaipenuh      ID  -2.0833  101.3833     71.89        84   \n",
       "659      659   Barra Patuca      HN  15.8000  -84.2833     74.62        79   \n",
       "661      661  Sao Sebastiao      BR -23.7600  -45.4097     75.04        85   \n",
       "\n",
       "     Cloudiness  Wind Speed Current Description  \n",
       "3             0        9.53           clear sky  \n",
       "5            75        2.44                mist  \n",
       "7            29       12.66    scattered clouds  \n",
       "8            32       10.09    scattered clouds  \n",
       "9           100        7.34          light rain  \n",
       "..          ...         ...                 ...  \n",
       "654         100        6.33     overcast clouds  \n",
       "655           0       21.43           clear sky  \n",
       "656         100        3.71       moderate rain  \n",
       "659         100        6.71     overcast clouds  \n",
       "661          77        0.85       broken clouds  \n",
       "\n",
       "[244 rows x 10 columns]"
      ],
      "text/html": "<div>\n<style scoped>\n    .dataframe tbody tr th:only-of-type {\n        vertical-align: middle;\n    }\n\n    .dataframe tbody tr th {\n        vertical-align: top;\n    }\n\n    .dataframe thead th {\n        text-align: right;\n    }\n</style>\n<table border=\"1\" class=\"dataframe\">\n  <thead>\n    <tr style=\"text-align: right;\">\n      <th></th>\n      <th>City_ID</th>\n      <th>City</th>\n      <th>Country</th>\n      <th>Lat</th>\n      <th>Lng</th>\n      <th>Max Temp</th>\n      <th>Humidity</th>\n      <th>Cloudiness</th>\n      <th>Wind Speed</th>\n      <th>Current Description</th>\n    </tr>\n  </thead>\n  <tbody>\n    <tr>\n      <th>3</th>\n      <td>3</td>\n      <td>Salalah</td>\n      <td>OM</td>\n      <td>17.0151</td>\n      <td>54.0924</td>\n      <td>77.94</td>\n      <td>27</td>\n      <td>0</td>\n      <td>9.53</td>\n      <td>clear sky</td>\n    </tr>\n    <tr>\n      <th>5</th>\n      <td>5</td>\n      <td>Buchanan</td>\n      <td>LR</td>\n      <td>5.8808</td>\n      <td>-10.0467</td>\n      <td>77.00</td>\n      <td>94</td>\n      <td>75</td>\n      <td>2.44</td>\n      <td>mist</td>\n    </tr>\n    <tr>\n      <th>7</th>\n      <td>7</td>\n      <td>Kousseri</td>\n      <td>CM</td>\n      <td>12.0769</td>\n      <td>15.0306</td>\n      <td>75.20</td>\n      <td>23</td>\n      <td>29</td>\n      <td>12.66</td>\n      <td>scattered clouds</td>\n    </tr>\n    <tr>\n      <th>8</th>\n      <td>8</td>\n      <td>Hithadhoo</td>\n      <td>MV</td>\n      <td>-0.6000</td>\n      <td>73.0833</td>\n      <td>81.72</td>\n      <td>74</td>\n      <td>32</td>\n      <td>10.09</td>\n      <td>scattered clouds</td>\n    </tr>\n    <tr>\n      <th>9</th>\n      <td>9</td>\n      <td>Rikitea</td>\n      <td>PF</td>\n      <td>-23.1203</td>\n      <td>-134.9692</td>\n      <td>78.15</td>\n      <td>76</td>\n      <td>100</td>\n      <td>7.34</td>\n      <td>light rain</td>\n    </tr>\n    <tr>\n      <th>...</th>\n      <td>...</td>\n      <td>...</td>\n      <td>...</td>\n      <td>...</td>\n      <td>...</td>\n      <td>...</td>\n      <td>...</td>\n      <td>...</td>\n      <td>...</td>\n      <td>...</td>\n    </tr>\n    <tr>\n      <th>654</th>\n      <td>654</td>\n      <td>Tura</td>\n      <td>IN</td>\n      <td>25.5198</td>\n      <td>90.2201</td>\n      <td>77.90</td>\n      <td>39</td>\n      <td>100</td>\n      <td>6.33</td>\n      <td>overcast clouds</td>\n    </tr>\n    <tr>\n      <th>655</th>\n      <td>655</td>\n      <td>Mogadishu</td>\n      <td>SO</td>\n      <td>2.0371</td>\n      <td>45.3438</td>\n      <td>81.72</td>\n      <td>55</td>\n      <td>0</td>\n      <td>21.43</td>\n      <td>clear sky</td>\n    </tr>\n    <tr>\n      <th>656</th>\n      <td>656</td>\n      <td>Sungaipenuh</td>\n      <td>ID</td>\n      <td>-2.0833</td>\n      <td>101.3833</td>\n      <td>71.89</td>\n      <td>84</td>\n      <td>100</td>\n      <td>3.71</td>\n      <td>moderate rain</td>\n    </tr>\n    <tr>\n      <th>659</th>\n      <td>659</td>\n      <td>Barra Patuca</td>\n      <td>HN</td>\n      <td>15.8000</td>\n      <td>-84.2833</td>\n      <td>74.62</td>\n      <td>79</td>\n      <td>100</td>\n      <td>6.71</td>\n      <td>overcast clouds</td>\n    </tr>\n    <tr>\n      <th>661</th>\n      <td>661</td>\n      <td>Sao Sebastiao</td>\n      <td>BR</td>\n      <td>-23.7600</td>\n      <td>-45.4097</td>\n      <td>75.04</td>\n      <td>85</td>\n      <td>77</td>\n      <td>0.85</td>\n      <td>broken clouds</td>\n    </tr>\n  </tbody>\n</table>\n<p>244 rows × 10 columns</p>\n</div>"
     },
     "metadata": {},
     "execution_count": 20
    }
   ],
   "source": [
    "# 3. Filter the city_data_df DataFrame using the input statements to create a new DataFrame using the loc method.\n",
    "new_df = city_data_df.loc[(city_data_df['Max Temp'] <= max_temp) & \\\n",
    "                                       (city_data_df['Max Temp'] >= min_temp)]\n",
    "new_df"
   ]
  },
  {
   "cell_type": "code",
   "execution_count": 21,
   "metadata": {},
   "outputs": [
    {
     "output_type": "execute_result",
     "data": {
      "text/plain": [
       "City_ID                0\n",
       "City                   0\n",
       "Country                2\n",
       "Lat                    0\n",
       "Lng                    0\n",
       "Max Temp               0\n",
       "Humidity               0\n",
       "Cloudiness             0\n",
       "Wind Speed             0\n",
       "Current Description    0\n",
       "dtype: int64"
      ]
     },
     "metadata": {},
     "execution_count": 21
    }
   ],
   "source": [
    "# 4a. Determine if there are any empty rows.\n",
    "new_df.isnull().sum()"
   ]
  },
  {
   "cell_type": "code",
   "execution_count": 22,
   "metadata": {},
   "outputs": [],
   "source": [
    "# 4b. Drop any empty rows and create a new DataFrame that doesn’t have empty rows.\n",
    "new_df = new_df.dropna()"
   ]
  },
  {
   "cell_type": "code",
   "execution_count": 31,
   "metadata": {},
   "outputs": [
    {
     "output_type": "execute_result",
     "data": {
      "text/plain": [
       "         City Country  Max Temp Current Description      Lat       Lng  \\\n",
       "3     Salalah      OM     77.94           clear sky  17.0151   54.0924   \n",
       "5    Buchanan      LR     77.00                mist   5.8808  -10.0467   \n",
       "7    Kousseri      CM     75.20    scattered clouds  12.0769   15.0306   \n",
       "8   Hithadhoo      MV     81.72    scattered clouds  -0.6000   73.0833   \n",
       "9     Rikitea      PF     78.15          light rain -23.1203 -134.9692   \n",
       "10  Thinadhoo      MV     81.70     overcast clouds   0.5333   72.9333   \n",
       "11     Namibe      AO     71.65     overcast clouds -15.1961   12.1522   \n",
       "13     Hobart      AU     72.00       broken clouds -42.8794  147.3294   \n",
       "17      Vaini      TO     78.80    scattered clouds -21.2000 -175.2000   \n",
       "20   Hermanus      ZA     75.00    scattered clouds -34.4187   19.2345   \n",
       "\n",
       "   Hotel Name  \n",
       "3              \n",
       "5              \n",
       "7              \n",
       "8              \n",
       "9              \n",
       "10             \n",
       "11             \n",
       "13             \n",
       "17             \n",
       "20             "
      ],
      "text/html": "<div>\n<style scoped>\n    .dataframe tbody tr th:only-of-type {\n        vertical-align: middle;\n    }\n\n    .dataframe tbody tr th {\n        vertical-align: top;\n    }\n\n    .dataframe thead th {\n        text-align: right;\n    }\n</style>\n<table border=\"1\" class=\"dataframe\">\n  <thead>\n    <tr style=\"text-align: right;\">\n      <th></th>\n      <th>City</th>\n      <th>Country</th>\n      <th>Max Temp</th>\n      <th>Current Description</th>\n      <th>Lat</th>\n      <th>Lng</th>\n      <th>Hotel Name</th>\n    </tr>\n  </thead>\n  <tbody>\n    <tr>\n      <th>3</th>\n      <td>Salalah</td>\n      <td>OM</td>\n      <td>77.94</td>\n      <td>clear sky</td>\n      <td>17.0151</td>\n      <td>54.0924</td>\n      <td></td>\n    </tr>\n    <tr>\n      <th>5</th>\n      <td>Buchanan</td>\n      <td>LR</td>\n      <td>77.00</td>\n      <td>mist</td>\n      <td>5.8808</td>\n      <td>-10.0467</td>\n      <td></td>\n    </tr>\n    <tr>\n      <th>7</th>\n      <td>Kousseri</td>\n      <td>CM</td>\n      <td>75.20</td>\n      <td>scattered clouds</td>\n      <td>12.0769</td>\n      <td>15.0306</td>\n      <td></td>\n    </tr>\n    <tr>\n      <th>8</th>\n      <td>Hithadhoo</td>\n      <td>MV</td>\n      <td>81.72</td>\n      <td>scattered clouds</td>\n      <td>-0.6000</td>\n      <td>73.0833</td>\n      <td></td>\n    </tr>\n    <tr>\n      <th>9</th>\n      <td>Rikitea</td>\n      <td>PF</td>\n      <td>78.15</td>\n      <td>light rain</td>\n      <td>-23.1203</td>\n      <td>-134.9692</td>\n      <td></td>\n    </tr>\n    <tr>\n      <th>10</th>\n      <td>Thinadhoo</td>\n      <td>MV</td>\n      <td>81.70</td>\n      <td>overcast clouds</td>\n      <td>0.5333</td>\n      <td>72.9333</td>\n      <td></td>\n    </tr>\n    <tr>\n      <th>11</th>\n      <td>Namibe</td>\n      <td>AO</td>\n      <td>71.65</td>\n      <td>overcast clouds</td>\n      <td>-15.1961</td>\n      <td>12.1522</td>\n      <td></td>\n    </tr>\n    <tr>\n      <th>13</th>\n      <td>Hobart</td>\n      <td>AU</td>\n      <td>72.00</td>\n      <td>broken clouds</td>\n      <td>-42.8794</td>\n      <td>147.3294</td>\n      <td></td>\n    </tr>\n    <tr>\n      <th>17</th>\n      <td>Vaini</td>\n      <td>TO</td>\n      <td>78.80</td>\n      <td>scattered clouds</td>\n      <td>-21.2000</td>\n      <td>-175.2000</td>\n      <td></td>\n    </tr>\n    <tr>\n      <th>20</th>\n      <td>Hermanus</td>\n      <td>ZA</td>\n      <td>75.00</td>\n      <td>scattered clouds</td>\n      <td>-34.4187</td>\n      <td>19.2345</td>\n      <td></td>\n    </tr>\n  </tbody>\n</table>\n</div>"
     },
     "metadata": {},
     "execution_count": 31
    }
   ],
   "source": [
    "# 5a. Create DataFrame called hotel_df to store hotel names along with city, country, max temp, and coordinates.\n",
    "hotel_df = new_df[[\"City\", \"Country\", \"Max Temp\", \"Current Description\", \"Lat\", \"Lng\"]].copy()\n",
    "\n",
    "# 5b. Create a new column \"Hotel Name\"\n",
    "hotel_df[\"Hotel Name\"] = \"\"\n",
    "hotel_df.head(10)"
   ]
  },
  {
   "cell_type": "code",
   "execution_count": 33,
   "metadata": {},
   "outputs": [
    {
     "output_type": "stream",
     "name": "stdout",
     "text": [
      "Hotel not found... skipping.\n",
      "Hotel not found... skipping.\n",
      "Hotel not found... skipping.\n",
      "Hotel not found... skipping.\n",
      "Hotel not found... skipping.\n",
      "Hotel not found... skipping.\n",
      "Hotel not found... skipping.\n",
      "Hotel not found... skipping.\n",
      "Hotel not found... skipping.\n",
      "Hotel not found... skipping.\n",
      "Hotel not found... skipping.\n",
      "Hotel not found... skipping.\n",
      "Hotel not found... skipping.\n",
      "Hotel not found... skipping.\n",
      "Hotel not found... skipping.\n",
      "Hotel not found... skipping.\n",
      "Hotel not found... skipping.\n",
      "Hotel not found... skipping.\n",
      "Hotel not found... skipping.\n",
      "Hotel not found... skipping.\n",
      "Hotel not found... skipping.\n",
      "Hotel not found... skipping.\n",
      "Hotel not found... skipping.\n",
      "Hotel not found... skipping.\n",
      "Hotel not found... skipping.\n"
     ]
    }
   ],
   "source": [
    "# 6a. Set parameters to search for hotels with 5000 meters.\n",
    "params = {\n",
    "    \"radius\": 5000,\n",
    "    \"type\": \"lodging\",\n",
    "    \"key\": g_key\n",
    "}\n",
    "\n",
    "# 6b. Iterate through the hotel DataFrame.\n",
    "for index, row in hotel_df.iterrows():\n",
    "    # 6c. Get latitude and longitude from DataFrame\n",
    "    lat = row['Lat']\n",
    "    lng = row['Lng']\n",
    "    params['location'] = f\"{lat},{lng}\"    \n",
    "    # 6d. Set up the base URL for the Google Directions API to get JSON data.\n",
    "    base_url = 'https://maps.googleapis.com/maps/api/place/nearbysearch/json'\n",
    "    # 6e. Make request and retrieve the JSON data from the search. \n",
    "    hotels = requests.get(base_url, params=params).json()\n",
    "    # 6f. Get the first hotel from the results and store the name, if a hotel isn't found skip the city.\n",
    "    try:\n",
    "        hotel_df.loc[index, 'Hotel Name'] = hotels['results'][0]['name']\n",
    "    except (IndexError):\n",
    "        print('Hotel not found... skipping.')\n",
    "        "
   ]
  },
  {
   "cell_type": "code",
   "execution_count": 34,
   "metadata": {},
   "outputs": [
    {
     "output_type": "execute_result",
     "data": {
      "text/plain": [
       "              City Country  Max Temp Current Description      Lat       Lng  \\\n",
       "3          Salalah      OM     77.94           clear sky  17.0151   54.0924   \n",
       "5         Buchanan      LR     77.00                mist   5.8808  -10.0467   \n",
       "7         Kousseri      CM     75.20    scattered clouds  12.0769   15.0306   \n",
       "8        Hithadhoo      MV     81.72    scattered clouds  -0.6000   73.0833   \n",
       "9          Rikitea      PF     78.15          light rain -23.1203 -134.9692   \n",
       "..             ...     ...       ...                 ...      ...       ...   \n",
       "654           Tura      IN     77.90     overcast clouds  25.5198   90.2201   \n",
       "655      Mogadishu      SO     81.72           clear sky   2.0371   45.3438   \n",
       "656    Sungaipenuh      ID     71.89       moderate rain  -2.0833  101.3833   \n",
       "659   Barra Patuca      HN     74.62     overcast clouds  15.8000  -84.2833   \n",
       "661  Sao Sebastiao      BR     75.04       broken clouds -23.7600  -45.4097   \n",
       "\n",
       "                     Hotel Name  \n",
       "3            HAMDAN PLAZA HOTEL  \n",
       "5           Kamaneahn Hotel Inc  \n",
       "7          Résidence le Palmier  \n",
       "8             Scoop Guest House  \n",
       "9                Pension Maro'i  \n",
       "..                          ...  \n",
       "654    Hotel RIKMAN Continental  \n",
       "655                  Hotel Juba  \n",
       "656         Hotel Jaya Wisata 2  \n",
       "659                              \n",
       "661  Hotel Recanto dos Pássaros  \n",
       "\n",
       "[242 rows x 7 columns]"
      ],
      "text/html": "<div>\n<style scoped>\n    .dataframe tbody tr th:only-of-type {\n        vertical-align: middle;\n    }\n\n    .dataframe tbody tr th {\n        vertical-align: top;\n    }\n\n    .dataframe thead th {\n        text-align: right;\n    }\n</style>\n<table border=\"1\" class=\"dataframe\">\n  <thead>\n    <tr style=\"text-align: right;\">\n      <th></th>\n      <th>City</th>\n      <th>Country</th>\n      <th>Max Temp</th>\n      <th>Current Description</th>\n      <th>Lat</th>\n      <th>Lng</th>\n      <th>Hotel Name</th>\n    </tr>\n  </thead>\n  <tbody>\n    <tr>\n      <th>3</th>\n      <td>Salalah</td>\n      <td>OM</td>\n      <td>77.94</td>\n      <td>clear sky</td>\n      <td>17.0151</td>\n      <td>54.0924</td>\n      <td>HAMDAN PLAZA HOTEL</td>\n    </tr>\n    <tr>\n      <th>5</th>\n      <td>Buchanan</td>\n      <td>LR</td>\n      <td>77.00</td>\n      <td>mist</td>\n      <td>5.8808</td>\n      <td>-10.0467</td>\n      <td>Kamaneahn Hotel Inc</td>\n    </tr>\n    <tr>\n      <th>7</th>\n      <td>Kousseri</td>\n      <td>CM</td>\n      <td>75.20</td>\n      <td>scattered clouds</td>\n      <td>12.0769</td>\n      <td>15.0306</td>\n      <td>Résidence le Palmier</td>\n    </tr>\n    <tr>\n      <th>8</th>\n      <td>Hithadhoo</td>\n      <td>MV</td>\n      <td>81.72</td>\n      <td>scattered clouds</td>\n      <td>-0.6000</td>\n      <td>73.0833</td>\n      <td>Scoop Guest House</td>\n    </tr>\n    <tr>\n      <th>9</th>\n      <td>Rikitea</td>\n      <td>PF</td>\n      <td>78.15</td>\n      <td>light rain</td>\n      <td>-23.1203</td>\n      <td>-134.9692</td>\n      <td>Pension Maro'i</td>\n    </tr>\n    <tr>\n      <th>...</th>\n      <td>...</td>\n      <td>...</td>\n      <td>...</td>\n      <td>...</td>\n      <td>...</td>\n      <td>...</td>\n      <td>...</td>\n    </tr>\n    <tr>\n      <th>654</th>\n      <td>Tura</td>\n      <td>IN</td>\n      <td>77.90</td>\n      <td>overcast clouds</td>\n      <td>25.5198</td>\n      <td>90.2201</td>\n      <td>Hotel RIKMAN Continental</td>\n    </tr>\n    <tr>\n      <th>655</th>\n      <td>Mogadishu</td>\n      <td>SO</td>\n      <td>81.72</td>\n      <td>clear sky</td>\n      <td>2.0371</td>\n      <td>45.3438</td>\n      <td>Hotel Juba</td>\n    </tr>\n    <tr>\n      <th>656</th>\n      <td>Sungaipenuh</td>\n      <td>ID</td>\n      <td>71.89</td>\n      <td>moderate rain</td>\n      <td>-2.0833</td>\n      <td>101.3833</td>\n      <td>Hotel Jaya Wisata 2</td>\n    </tr>\n    <tr>\n      <th>659</th>\n      <td>Barra Patuca</td>\n      <td>HN</td>\n      <td>74.62</td>\n      <td>overcast clouds</td>\n      <td>15.8000</td>\n      <td>-84.2833</td>\n      <td></td>\n    </tr>\n    <tr>\n      <th>661</th>\n      <td>Sao Sebastiao</td>\n      <td>BR</td>\n      <td>75.04</td>\n      <td>broken clouds</td>\n      <td>-23.7600</td>\n      <td>-45.4097</td>\n      <td>Hotel Recanto dos Pássaros</td>\n    </tr>\n  </tbody>\n</table>\n<p>242 rows × 7 columns</p>\n</div>"
     },
     "metadata": {},
     "execution_count": 34
    }
   ],
   "source": [
    "# 7. Drop the rows where there is no Hotel Name.\n",
    "hotel_df = hotel_df.dropna()\n",
    "hotel_df"
   ]
  },
  {
   "cell_type": "code",
   "execution_count": 38,
   "metadata": {},
   "outputs": [],
   "source": [
    "# 8a. Create the output File (CSV)\n",
    "output_data_file = \"Vacation_Search/WeatherPy_vacation.csv\"\n",
    "# 8b. Export the City_Data into a csv\n",
    "hotel_df.to_csv(output_data_file, index_label=\"City_ID\")"
   ]
  },
  {
   "cell_type": "code",
   "execution_count": 42,
   "metadata": {},
   "outputs": [],
   "source": [
    "# 9. Using the template add city name, the country code, the weather description and maximum temperature for the city.\n",
    "info_box_template = \"\"\"\n",
    "<dl>\n",
    "<dt>Hotel Name</dt><dd>{Hotel Name}</dd>\n",
    "<dt>City</dt><dd>{City}</dd>\n",
    "<dt>Country</dt><dd>{Country}</dd>\n",
    "<dt>Current Weather</dt><dd>{Current Description} and {Max Temp} °F</dd>\n",
    "</dl>\n",
    "\"\"\"\n",
    "\n",
    "# 10a. Get the data from each row and add it to the formatting template and store the data in a list.\n",
    "hotel_info = [info_box_template.format(**row) for index, row in hotel_df.iterrows()]\n",
    "\n",
    "# 10b. Get the latitude and longitude from each row and store in a new DataFrame.\n",
    "locations = hotel_df[[\"Lat\", \"Lng\"]]"
   ]
  },
  {
   "cell_type": "code",
   "execution_count": 43,
   "metadata": {},
   "outputs": [
    {
     "output_type": "display_data",
     "data": {
      "text/plain": "Figure(layout=FigureLayout(height='420px'))",
      "application/vnd.jupyter.widget-view+json": {
       "version_major": 2,
       "version_minor": 0,
       "model_id": "aa5497e5e5c74d67a7d4fab95f392741"
      }
     },
     "metadata": {}
    }
   ],
   "source": [
    "# 11a. Add a marker layer for each city to the map. \n",
    "fig = gmaps.figure(center=(30.0, 31.0), zoom_level=1.5)\n",
    "marker_layer = gmaps.marker_layer(locations, info_box_content=hotel_info)\n",
    "fig.add_layer(marker_layer)\n",
    "# 11b. Display the figure\n",
    "fig"
   ]
  },
  {
   "cell_type": "code",
   "execution_count": null,
   "metadata": {},
   "outputs": [],
   "source": []
  },
  {
   "cell_type": "code",
   "execution_count": null,
   "metadata": {},
   "outputs": [],
   "source": []
  }
 ],
 "metadata": {
  "kernelspec": {
   "display_name": "PythonData",
   "language": "python",
   "name": "pythondata"
  },
  "language_info": {
   "codemirror_mode": {
    "name": "ipython",
    "version": 3
   },
   "file_extension": ".py",
   "mimetype": "text/x-python",
   "name": "python",
   "nbconvert_exporter": "python",
   "pygments_lexer": "ipython3",
   "version": "3.8.5-final"
  },
  "latex_envs": {
   "LaTeX_envs_menu_present": true,
   "autoclose": false,
   "autocomplete": true,
   "bibliofile": "biblio.bib",
   "cite_by": "apalike",
   "current_citInitial": 1,
   "eqLabelWithNumbers": true,
   "eqNumInitial": 1,
   "hotkeys": {
    "equation": "Ctrl-E",
    "itemize": "Ctrl-I"
   },
   "labels_anchors": false,
   "latex_user_defs": false,
   "report_style_numbering": false,
   "user_envs_cfg": false
  }
 },
 "nbformat": 4,
 "nbformat_minor": 2
}