{
 "cells": [
  {
   "cell_type": "markdown",
   "metadata": {},
   "source": [
    "## Deliverable 3. Create a Travel Itinerary Map."
   ]
  },
  {
   "cell_type": "code",
   "execution_count": 10,
   "metadata": {},
   "outputs": [],
   "source": [
    "# Dependencies and Setup\n",
    "import pandas as pd\n",
    "import requests\n",
    "import gmaps\n",
    "\n",
    "# Import API key\n",
    "from config import g_key\n",
    "\n",
    "# Configure gmaps\n",
    "gmaps.configure(api_key=g_key)"
   ]
  },
  {
   "cell_type": "code",
   "execution_count": 11,
   "metadata": {},
   "outputs": [
    {
     "output_type": "execute_result",
     "data": {
      "text/plain": [
       "   City_ID       City Country  Max Temp Current Description      Lat  \\\n",
       "0        3    Salalah      OM     77.94           clear sky  17.0151   \n",
       "1        5   Buchanan      LR     77.00                mist   5.8808   \n",
       "2        7   Kousseri      CM     75.20    scattered clouds  12.0769   \n",
       "3        8  Hithadhoo      MV     81.72    scattered clouds  -0.6000   \n",
       "4        9    Rikitea      PF     78.15          light rain -23.1203   \n",
       "\n",
       "        Lng            Hotel Name  \n",
       "0   54.0924    HAMDAN PLAZA HOTEL  \n",
       "1  -10.0467   Kamaneahn Hotel Inc  \n",
       "2   15.0306  Résidence le Palmier  \n",
       "3   73.0833     Scoop Guest House  \n",
       "4 -134.9692        Pension Maro'i  "
      ],
      "text/html": "<div>\n<style scoped>\n    .dataframe tbody tr th:only-of-type {\n        vertical-align: middle;\n    }\n\n    .dataframe tbody tr th {\n        vertical-align: top;\n    }\n\n    .dataframe thead th {\n        text-align: right;\n    }\n</style>\n<table border=\"1\" class=\"dataframe\">\n  <thead>\n    <tr style=\"text-align: right;\">\n      <th></th>\n      <th>City_ID</th>\n      <th>City</th>\n      <th>Country</th>\n      <th>Max Temp</th>\n      <th>Current Description</th>\n      <th>Lat</th>\n      <th>Lng</th>\n      <th>Hotel Name</th>\n    </tr>\n  </thead>\n  <tbody>\n    <tr>\n      <th>0</th>\n      <td>3</td>\n      <td>Salalah</td>\n      <td>OM</td>\n      <td>77.94</td>\n      <td>clear sky</td>\n      <td>17.0151</td>\n      <td>54.0924</td>\n      <td>HAMDAN PLAZA HOTEL</td>\n    </tr>\n    <tr>\n      <th>1</th>\n      <td>5</td>\n      <td>Buchanan</td>\n      <td>LR</td>\n      <td>77.00</td>\n      <td>mist</td>\n      <td>5.8808</td>\n      <td>-10.0467</td>\n      <td>Kamaneahn Hotel Inc</td>\n    </tr>\n    <tr>\n      <th>2</th>\n      <td>7</td>\n      <td>Kousseri</td>\n      <td>CM</td>\n      <td>75.20</td>\n      <td>scattered clouds</td>\n      <td>12.0769</td>\n      <td>15.0306</td>\n      <td>Résidence le Palmier</td>\n    </tr>\n    <tr>\n      <th>3</th>\n      <td>8</td>\n      <td>Hithadhoo</td>\n      <td>MV</td>\n      <td>81.72</td>\n      <td>scattered clouds</td>\n      <td>-0.6000</td>\n      <td>73.0833</td>\n      <td>Scoop Guest House</td>\n    </tr>\n    <tr>\n      <th>4</th>\n      <td>9</td>\n      <td>Rikitea</td>\n      <td>PF</td>\n      <td>78.15</td>\n      <td>light rain</td>\n      <td>-23.1203</td>\n      <td>-134.9692</td>\n      <td>Pension Maro'i</td>\n    </tr>\n  </tbody>\n</table>\n</div>"
     },
     "metadata": {},
     "execution_count": 11
    }
   ],
   "source": [
    "# 1. Read the WeatherPy_vacation.csv into a DataFrame.\n",
    "vacation_df = pd.read_csv(\"Vacation_Search/WeatherPy_vacation.csv\")\n",
    "vacation_df.head()"
   ]
  },
  {
   "cell_type": "code",
   "execution_count": 12,
   "metadata": {},
   "outputs": [],
   "source": [
    "# 2. Using the template add the city name, the country code, the weather description and maximum temperature for the city.\n",
    "info_box_template = \"\"\"\n",
    "<dl>\n",
    "<dt>City</dt><dd>{City}</dd>\n",
    "<dt>Country</dt><dd>{Country}</dd>\n",
    "<dt>Current Weather</dt><dd>{Current Description} and {Max Temp} °F</dd>\n",
    "</dl>\n",
    "\"\"\"\n",
    "\n",
    "# 3a. Get the data from each row and add it to the formatting template and store the data in a list.\n",
    "hotel_info = [info_box_template.format(**row) for index, row in vacation_df.iterrows()]\n",
    "\n",
    "# 3b. Get the latitude and longitude from each row and store in a new DataFrame.\n",
    "locations = vacation_df[[\"Lat\", \"Lng\"]]"
   ]
  },
  {
   "cell_type": "code",
   "execution_count": 13,
   "metadata": {},
   "outputs": [
    {
     "output_type": "display_data",
     "data": {
      "text/plain": "Figure(layout=FigureLayout(height='420px'))",
      "application/vnd.jupyter.widget-view+json": {
       "version_major": 2,
       "version_minor": 0,
       "model_id": "9e8d159050174cf981d5a8bcbac7d323"
      }
     },
     "metadata": {}
    }
   ],
   "source": [
    "# 4a. Add a marker layer for each city to the map.\n",
    "fig = gmaps.figure(center=(30.0, 31.0), zoom_level=1.5)\n",
    "marker_layer = gmaps.marker_layer(locations, info_box_content=hotel_info)\n",
    "fig.add_layer(marker_layer)\n",
    "# 4b. Display the figure\n",
    "fig\n"
   ]
  },
  {
   "cell_type": "code",
   "execution_count": 14,
   "metadata": {},
   "outputs": [],
   "source": [
    "# From the map above pick 4 cities and create a vacation itinerary route to travel between the four cities. \n",
    "# 5. Create DataFrames for each city by filtering the 'vacation_df' using the loc method. \n",
    "# Hint: The starting and ending city should be the same city.\n",
    "\n",
    "vacation_start = vacation_df.loc[vacation_df['City'] == 'Puerto Escondido']\n",
    "vacation_end = vacation_df.loc[vacation_df['City'] == 'Puerto Escondido']\n",
    "vacation_stop1 = vacation_df.loc[vacation_df['City'] == 'Guanare']\n",
    "vacation_stop2 = vacation_df.loc[vacation_df['City'] == 'Maragogi'] \n",
    "vacation_stop3 = vacation_df.loc[vacation_df['City'] == 'Resistencia'] "
   ]
  },
  {
   "cell_type": "code",
   "execution_count": 15,
   "metadata": {},
   "outputs": [],
   "source": [
    "# 6. Get the latitude-longitude pairs as tuples from each city DataFrame using the to_numpy function and list indexing.\n",
    "start = (vacation_start['Lat'].to_numpy()[0], vacation_start['Lng'].to_numpy()[0])\n",
    "end = (vacation_end['Lat'].to_numpy()[0], vacation_end['Lng'].to_numpy()[0])\n",
    "stop1 = (vacation_stop1['Lat'].to_numpy()[0], vacation_stop1['Lng'].to_numpy()[0])\n",
    "stop2 = (vacation_stop2['Lat'].to_numpy()[0], vacation_stop2['Lng'].to_numpy()[0])\n",
    "stop3 = (vacation_stop3['Lat'].to_numpy()[0], vacation_stop3['Lng'].to_numpy()[0])"
   ]
  },
  {
   "cell_type": "code",
   "execution_count": 16,
   "metadata": {
    "scrolled": true
   },
   "outputs": [
    {
     "output_type": "display_data",
     "data": {
      "text/plain": "Figure(layout=FigureLayout(height='420px'))",
      "application/vnd.jupyter.widget-view+json": {
       "version_major": 2,
       "version_minor": 0,
       "model_id": "2d7c72f533a442cd9071a0eb2e48443a"
      }
     },
     "metadata": {}
    }
   ],
   "source": [
    "# 7. Create a direction layer map using the start and end latitude-longitude pairs,\n",
    "# and stop1, stop2, and stop3 as the waypoints. The travel_mode should be \"DRIVING\", \"BICYCLING\", or \"WALKING\".\n",
    "fig = gmaps.figure()\n",
    "vacation_driving_trip = gmaps.directions_layer(start, end, waypoints=[stop1, stop2, stop3], travel_mode='DRIVING')\n",
    "fig.add_layer(vacation_driving_trip)\n",
    "fig\n"
   ]
  },
  {
   "cell_type": "code",
   "execution_count": 18,
   "metadata": {},
   "outputs": [
    {
     "output_type": "execute_result",
     "data": {
      "text/plain": [
       "   City_ID              City Country  Max Temp Current Description      Lat  \\\n",
       "0      288  Puerto Escondido      MX     74.12           clear sky  15.8500   \n",
       "1      222           Guanare      VE     71.15     overcast clouds   9.0418   \n",
       "2       42          Maragogi      BR     76.33          few clouds  -9.0122   \n",
       "3      211       Resistencia      AR     75.99           clear sky -27.4606   \n",
       "4      288  Puerto Escondido      MX     74.12           clear sky  15.8500   \n",
       "\n",
       "       Lng                                Hotel Name  \n",
       "0 -97.0667             Aldea del Bazar Hotel and Spa  \n",
       "1 -69.7421                      Nuevo Hotel Coromoto  \n",
       "2 -35.2225  Salinas do Maragogi All Inclusive Resort  \n",
       "3 -58.9839                         Niyat Urban Hotel  \n",
       "4 -97.0667             Aldea del Bazar Hotel and Spa  "
      ],
      "text/html": "<div>\n<style scoped>\n    .dataframe tbody tr th:only-of-type {\n        vertical-align: middle;\n    }\n\n    .dataframe tbody tr th {\n        vertical-align: top;\n    }\n\n    .dataframe thead th {\n        text-align: right;\n    }\n</style>\n<table border=\"1\" class=\"dataframe\">\n  <thead>\n    <tr style=\"text-align: right;\">\n      <th></th>\n      <th>City_ID</th>\n      <th>City</th>\n      <th>Country</th>\n      <th>Max Temp</th>\n      <th>Current Description</th>\n      <th>Lat</th>\n      <th>Lng</th>\n      <th>Hotel Name</th>\n    </tr>\n  </thead>\n  <tbody>\n    <tr>\n      <th>0</th>\n      <td>288</td>\n      <td>Puerto Escondido</td>\n      <td>MX</td>\n      <td>74.12</td>\n      <td>clear sky</td>\n      <td>15.8500</td>\n      <td>-97.0667</td>\n      <td>Aldea del Bazar Hotel and Spa</td>\n    </tr>\n    <tr>\n      <th>1</th>\n      <td>222</td>\n      <td>Guanare</td>\n      <td>VE</td>\n      <td>71.15</td>\n      <td>overcast clouds</td>\n      <td>9.0418</td>\n      <td>-69.7421</td>\n      <td>Nuevo Hotel Coromoto</td>\n    </tr>\n    <tr>\n      <th>2</th>\n      <td>42</td>\n      <td>Maragogi</td>\n      <td>BR</td>\n      <td>76.33</td>\n      <td>few clouds</td>\n      <td>-9.0122</td>\n      <td>-35.2225</td>\n      <td>Salinas do Maragogi All Inclusive Resort</td>\n    </tr>\n    <tr>\n      <th>3</th>\n      <td>211</td>\n      <td>Resistencia</td>\n      <td>AR</td>\n      <td>75.99</td>\n      <td>clear sky</td>\n      <td>-27.4606</td>\n      <td>-58.9839</td>\n      <td>Niyat Urban Hotel</td>\n    </tr>\n    <tr>\n      <th>4</th>\n      <td>288</td>\n      <td>Puerto Escondido</td>\n      <td>MX</td>\n      <td>74.12</td>\n      <td>clear sky</td>\n      <td>15.8500</td>\n      <td>-97.0667</td>\n      <td>Aldea del Bazar Hotel and Spa</td>\n    </tr>\n  </tbody>\n</table>\n</div>"
     },
     "metadata": {},
     "execution_count": 18
    }
   ],
   "source": [
    "# 8. To create a marker layer map between the four cities.\n",
    "#  Combine the four city DataFrames into one DataFrame using the concat() function.\n",
    "itinerary_df = pd.concat([vacation_start, vacation_stop1, vacation_stop2, vacation_stop3, vacation_end],ignore_index=True)\n",
    "itinerary_df"
   ]
  },
  {
   "cell_type": "code",
   "execution_count": 21,
   "metadata": {},
   "outputs": [],
   "source": [
    "# 9 Using the template add city name, the country code, the weather description and maximum temperature for the city. \n",
    "info_box_template = \"\"\"\n",
    "<dl>\n",
    "<dt>Hotel Name</dt><dd>{Hotel Name}</dd>\n",
    "<dt>City</dt><dd>{City}</dd>\n",
    "<dt>Country</dt><dd>{Country}</dd>\n",
    "<dt>Current Weather</dt><dd>{Current Description} and {Max Temp} °F</dd>\n",
    "</dl>\n",
    "\"\"\"\n",
    "\n",
    "# 10a Get the data from each row and add it to the formatting template and store the data in a list.\n",
    "hotel_info = [info_box_template.format(**row) for index, row in itinerary_df.iterrows()]\n",
    "\n",
    "# 10b. Get the latitude and longitude from each row and store in a new DataFrame.\n",
    "locations = itinerary_df[[\"Lat\", \"Lng\"]]"
   ]
  },
  {
   "cell_type": "code",
   "execution_count": 22,
   "metadata": {},
   "outputs": [
    {
     "output_type": "display_data",
     "data": {
      "text/plain": "Figure(layout=FigureLayout(height='420px'))",
      "application/vnd.jupyter.widget-view+json": {
       "version_major": 2,
       "version_minor": 0,
       "model_id": "793367a5847048feb46d05e4bccb3efa"
      }
     },
     "metadata": {}
    }
   ],
   "source": [
    "# 11a. Add a marker layer for each city to the map.\n",
    "fig = gmaps.figure()\n",
    "marker_layer = gmaps.marker_layer(locations, info_box_content=hotel_info)\n",
    "fig.add_layer(marker_layer)\n",
    "# 11b. Display the figure\n",
    "fig"
   ]
  },
  {
   "cell_type": "code",
   "execution_count": null,
   "metadata": {},
   "outputs": [],
   "source": []
  }
 ],
 "metadata": {
  "kernelspec": {
   "display_name": "PythonData",
   "language": "python",
   "name": "pythondata"
  },
  "language_info": {
   "codemirror_mode": {
    "name": "ipython",
    "version": 3
   },
   "file_extension": ".py",
   "mimetype": "text/x-python",
   "name": "python",
   "nbconvert_exporter": "python",
   "pygments_lexer": "ipython3",
   "version": "3.8.5-final"
  },
  "latex_envs": {
   "LaTeX_envs_menu_present": true,
   "autoclose": false,
   "autocomplete": true,
   "bibliofile": "biblio.bib",
   "cite_by": "apalike",
   "current_citInitial": 1,
   "eqLabelWithNumbers": true,
   "eqNumInitial": 1,
   "hotkeys": {
    "equation": "Ctrl-E",
    "itemize": "Ctrl-I"
   },
   "labels_anchors": false,
   "latex_user_defs": false,
   "report_style_numbering": false,
   "user_envs_cfg": false
  }
 },
 "nbformat": 4,
 "nbformat_minor": 2
}