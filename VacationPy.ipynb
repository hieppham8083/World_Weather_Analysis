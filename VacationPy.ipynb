{
 "metadata": {
  "language_info": {
   "codemirror_mode": {
    "name": "ipython",
    "version": 3
   },
   "file_extension": ".py",
   "mimetype": "text/x-python",
   "name": "python",
   "nbconvert_exporter": "python",
   "pygments_lexer": "ipython3",
   "version": "3.8.5-final"
  },
  "orig_nbformat": 2,
  "kernelspec": {
   "name": "python3",
   "display_name": "Python 3",
   "language": "python"
  }
 },
 "nbformat": 4,
 "nbformat_minor": 2,
 "cells": [
  {
   "cell_type": "code",
   "execution_count": 1,
   "metadata": {},
   "outputs": [],
   "source": [
    "# Import the dependencies.\n",
    "import pandas as pd\n",
    "import gmaps\n",
    "import requests\n",
    "# Import the API key.\n",
    "from config import g_key"
   ]
  },
  {
   "cell_type": "code",
   "execution_count": 2,
   "metadata": {},
   "outputs": [
    {
     "output_type": "execute_result",
     "data": {
      "text/plain": [
       "   City_ID                      City Country                 Date      Lat  \\\n",
       "0        0  Sao Gabriel Da Cachoeira      BR  2021-01-09 05:09:37  -0.1303   \n",
       "1        1                 Nishihara      JP  2021-01-09 05:09:38  26.1842   \n",
       "2        2                Kaitangata      NZ  2021-01-09 05:09:38 -46.2817   \n",
       "3        3              Punta Arenas      CL  2021-01-09 05:09:39 -53.1500   \n",
       "4        4              Khorramshahr      IR  2021-01-09 05:09:39  30.4397   \n",
       "\n",
       "        Lng  Max Temp  Humidity  Cloudiness  Wind Speed  \n",
       "0  -67.0892      70.2        99         100        2.48  \n",
       "1  127.7558      51.8        50          90       17.27  \n",
       "2  169.8464      59.0        65          68       15.01  \n",
       "3  -70.9167      48.2        71          40       24.16  \n",
       "4   48.1664      44.6        87           0        4.45  "
      ],
      "text/html": "<div>\n<style scoped>\n    .dataframe tbody tr th:only-of-type {\n        vertical-align: middle;\n    }\n\n    .dataframe tbody tr th {\n        vertical-align: top;\n    }\n\n    .dataframe thead th {\n        text-align: right;\n    }\n</style>\n<table border=\"1\" class=\"dataframe\">\n  <thead>\n    <tr style=\"text-align: right;\">\n      <th></th>\n      <th>City_ID</th>\n      <th>City</th>\n      <th>Country</th>\n      <th>Date</th>\n      <th>Lat</th>\n      <th>Lng</th>\n      <th>Max Temp</th>\n      <th>Humidity</th>\n      <th>Cloudiness</th>\n      <th>Wind Speed</th>\n    </tr>\n  </thead>\n  <tbody>\n    <tr>\n      <th>0</th>\n      <td>0</td>\n      <td>Sao Gabriel Da Cachoeira</td>\n      <td>BR</td>\n      <td>2021-01-09 05:09:37</td>\n      <td>-0.1303</td>\n      <td>-67.0892</td>\n      <td>70.2</td>\n      <td>99</td>\n      <td>100</td>\n      <td>2.48</td>\n    </tr>\n    <tr>\n      <th>1</th>\n      <td>1</td>\n      <td>Nishihara</td>\n      <td>JP</td>\n      <td>2021-01-09 05:09:38</td>\n      <td>26.1842</td>\n      <td>127.7558</td>\n      <td>51.8</td>\n      <td>50</td>\n      <td>90</td>\n      <td>17.27</td>\n    </tr>\n    <tr>\n      <th>2</th>\n      <td>2</td>\n      <td>Kaitangata</td>\n      <td>NZ</td>\n      <td>2021-01-09 05:09:38</td>\n      <td>-46.2817</td>\n      <td>169.8464</td>\n      <td>59.0</td>\n      <td>65</td>\n      <td>68</td>\n      <td>15.01</td>\n    </tr>\n    <tr>\n      <th>3</th>\n      <td>3</td>\n      <td>Punta Arenas</td>\n      <td>CL</td>\n      <td>2021-01-09 05:09:39</td>\n      <td>-53.1500</td>\n      <td>-70.9167</td>\n      <td>48.2</td>\n      <td>71</td>\n      <td>40</td>\n      <td>24.16</td>\n    </tr>\n    <tr>\n      <th>4</th>\n      <td>4</td>\n      <td>Khorramshahr</td>\n      <td>IR</td>\n      <td>2021-01-09 05:09:39</td>\n      <td>30.4397</td>\n      <td>48.1664</td>\n      <td>44.6</td>\n      <td>87</td>\n      <td>0</td>\n      <td>4.45</td>\n    </tr>\n  </tbody>\n</table>\n</div>"
     },
     "metadata": {},
     "execution_count": 2
    }
   ],
   "source": [
    "# Store the CSV you saved created in part one into a DataFrame.\n",
    "city_data_df = pd.read_csv(\"weather_data/cities.csv\")\n",
    "city_data_df.head()"
   ]
  },
  {
   "cell_type": "code",
   "execution_count": 7,
   "metadata": {},
   "outputs": [],
   "source": [
    "# Configure gmaps to use your Google API key.\n",
    "gmaps.configure(api_key=g_key)"
   ]
  },
  {
   "cell_type": "code",
   "execution_count": 10,
   "metadata": {},
   "outputs": [],
   "source": [
    "#Get the maximum temperature\n",
    "max_temp = city_data_df['Max Temp']\n",
    "temps = []\n",
    "for temp in max_temp:\n",
    "    temps.append(max(temp, 0))"
   ]
  },
  {
   "cell_type": "code",
   "execution_count": 11,
   "metadata": {},
   "outputs": [
    {
     "output_type": "display_data",
     "data": {
      "text/plain": "Figure(layout=FigureLayout(height='420px'))",
      "application/vnd.jupyter.widget-view+json": {
       "version_major": 2,
       "version_minor": 0,
       "model_id": "d4c565f03d5149248c5a54054ebec26e"
      }
     },
     "metadata": {}
    }
   ],
   "source": [
    "#Get the latitude and longitude\n",
    "locations = city_data_df[['Lat', 'Lng']]\n",
    "\n",
    "#Assign the figure variable\n",
    "fig = gmaps.figure(center=(30.0, 31.0), zoom_level=1.5)\n",
    "#Assign heatmap variable\n",
    "heat_layer = gmaps.heatmap_layer(locations, weights=[max(temp,0) for temp in max_temp], \n",
    "                                 dissipating=False, max_intensity=300, point_radius=4)\n",
    "\n",
    "#Add the heatmap layer\n",
    "fig.add_layer(heat_layer)\n",
    "fig"
   ]
  },
  {
   "cell_type": "code",
   "execution_count": 12,
   "metadata": {},
   "outputs": [
    {
     "output_type": "display_data",
     "data": {
      "text/plain": "Figure(layout=FigureLayout(height='420px'))",
      "application/vnd.jupyter.widget-view+json": {
       "version_major": 2,
       "version_minor": 0,
       "model_id": "14e2a7a1b02244998a8736dfd502e9a1"
      }
     },
     "metadata": {}
    }
   ],
   "source": [
    "locations = city_data_df[['Lat', 'Lng']]\n",
    "humidity = city_data_df['Humidity']\n",
    "fig = gmaps.figure(center=(30.0, 31), zoom_level=1.5)\n",
    "heat_layer = gmaps.heatmap_layer(locations, weights=humidity, \n",
    "                                 dissipating=False, max_intensity=300, point_radius=4)\n",
    "\n",
    "fig.add_layer(heat_layer)\n",
    "fig"
   ]
  },
  {
   "cell_type": "code",
   "execution_count": 13,
   "metadata": {},
   "outputs": [
    {
     "output_type": "display_data",
     "data": {
      "text/plain": "Figure(layout=FigureLayout(height='420px'))",
      "application/vnd.jupyter.widget-view+json": {
       "version_major": 2,
       "version_minor": 0,
       "model_id": "96f1c3238303424c847e26c40bd5c459"
      }
     },
     "metadata": {}
    }
   ],
   "source": [
    "locations = city_data_df[['Lat', 'Lng']]\n",
    "clouds = city_data_df['Cloudiness']\n",
    "fig = gmaps.figure(center=(30.0, 31), zoom_level=1.5)\n",
    "heat_layer = gmaps.heatmap_layer(locations, weights=clouds, \n",
    "                                 dissipating=False, max_intensity=300, point_radius=4)\n",
    "\n",
    "fig.add_layer(heat_layer)\n",
    "fig"
   ]
  },
  {
   "cell_type": "code",
   "execution_count": 17,
   "metadata": {},
   "outputs": [],
   "source": [
    "# Ask the customer to add a minimum and maximum temperature value.\n",
    "min_temp = float(input(\"What is the minimum temperature you would like for your trip? \"))\n",
    "max_temp = float(input(\"What is the maximum temperature you would like for your trip? \"))"
   ]
  },
  {
   "cell_type": "code",
   "execution_count": 18,
   "metadata": {},
   "outputs": [
    {
     "output_type": "execute_result",
     "data": {
      "text/plain": [
       "    City_ID                      City Country                 Date      Lat  \\\n",
       "0         0  Sao Gabriel Da Cachoeira      BR  2021-01-09 05:09:37  -0.1303   \n",
       "8         8                      Hilo      US  2021-01-09 05:06:27  19.7297   \n",
       "12       12                     Amapa      BR  2021-01-09 05:09:41   1.0000   \n",
       "15       15                     Kapaa      US  2021-01-09 05:09:42  22.0752   \n",
       "16       16                 Kontagora      NG  2021-01-09 05:09:43  10.3999   \n",
       "18       18                    Atuona      PF  2021-01-09 05:09:43  -9.8000   \n",
       "20       20             Saint-Georges      GD  2021-01-09 05:09:44  12.0564   \n",
       "22       22               Livingstone      ZM  2021-01-09 05:09:45 -17.8419   \n",
       "25       25                   Rikitea      PF  2021-01-09 05:09:45 -23.1203   \n",
       "27       27                  Meulaboh      ID  2021-01-09 05:09:46   4.1363   \n",
       "\n",
       "         Lng  Max Temp  Humidity  Cloudiness  Wind Speed  \n",
       "0   -67.0892     70.20        99         100        2.48  \n",
       "8  -155.0900     73.40        78          75        2.86  \n",
       "12  -52.0000     71.42        98          93        2.26  \n",
       "15 -159.3190     72.00        78           1        6.91  \n",
       "16    5.4695     71.33        24          47        5.55  \n",
       "18 -139.0333     77.67        76           9       20.22  \n",
       "20  -61.7485     77.00        83          20        5.75  \n",
       "22   25.8543     70.03        93         100        4.81  \n",
       "25 -134.9692     78.31        76          82        9.84  \n",
       "27   96.1285     83.43        69         100        5.50  "
      ],
      "text/html": "<div>\n<style scoped>\n    .dataframe tbody tr th:only-of-type {\n        vertical-align: middle;\n    }\n\n    .dataframe tbody tr th {\n        vertical-align: top;\n    }\n\n    .dataframe thead th {\n        text-align: right;\n    }\n</style>\n<table border=\"1\" class=\"dataframe\">\n  <thead>\n    <tr style=\"text-align: right;\">\n      <th></th>\n      <th>City_ID</th>\n      <th>City</th>\n      <th>Country</th>\n      <th>Date</th>\n      <th>Lat</th>\n      <th>Lng</th>\n      <th>Max Temp</th>\n      <th>Humidity</th>\n      <th>Cloudiness</th>\n      <th>Wind Speed</th>\n    </tr>\n  </thead>\n  <tbody>\n    <tr>\n      <th>0</th>\n      <td>0</td>\n      <td>Sao Gabriel Da Cachoeira</td>\n      <td>BR</td>\n      <td>2021-01-09 05:09:37</td>\n      <td>-0.1303</td>\n      <td>-67.0892</td>\n      <td>70.20</td>\n      <td>99</td>\n      <td>100</td>\n      <td>2.48</td>\n    </tr>\n    <tr>\n      <th>8</th>\n      <td>8</td>\n      <td>Hilo</td>\n      <td>US</td>\n      <td>2021-01-09 05:06:27</td>\n      <td>19.7297</td>\n      <td>-155.0900</td>\n      <td>73.40</td>\n      <td>78</td>\n      <td>75</td>\n      <td>2.86</td>\n    </tr>\n    <tr>\n      <th>12</th>\n      <td>12</td>\n      <td>Amapa</td>\n      <td>BR</td>\n      <td>2021-01-09 05:09:41</td>\n      <td>1.0000</td>\n      <td>-52.0000</td>\n      <td>71.42</td>\n      <td>98</td>\n      <td>93</td>\n      <td>2.26</td>\n    </tr>\n    <tr>\n      <th>15</th>\n      <td>15</td>\n      <td>Kapaa</td>\n      <td>US</td>\n      <td>2021-01-09 05:09:42</td>\n      <td>22.0752</td>\n      <td>-159.3190</td>\n      <td>72.00</td>\n      <td>78</td>\n      <td>1</td>\n      <td>6.91</td>\n    </tr>\n    <tr>\n      <th>16</th>\n      <td>16</td>\n      <td>Kontagora</td>\n      <td>NG</td>\n      <td>2021-01-09 05:09:43</td>\n      <td>10.3999</td>\n      <td>5.4695</td>\n      <td>71.33</td>\n      <td>24</td>\n      <td>47</td>\n      <td>5.55</td>\n    </tr>\n    <tr>\n      <th>18</th>\n      <td>18</td>\n      <td>Atuona</td>\n      <td>PF</td>\n      <td>2021-01-09 05:09:43</td>\n      <td>-9.8000</td>\n      <td>-139.0333</td>\n      <td>77.67</td>\n      <td>76</td>\n      <td>9</td>\n      <td>20.22</td>\n    </tr>\n    <tr>\n      <th>20</th>\n      <td>20</td>\n      <td>Saint-Georges</td>\n      <td>GD</td>\n      <td>2021-01-09 05:09:44</td>\n      <td>12.0564</td>\n      <td>-61.7485</td>\n      <td>77.00</td>\n      <td>83</td>\n      <td>20</td>\n      <td>5.75</td>\n    </tr>\n    <tr>\n      <th>22</th>\n      <td>22</td>\n      <td>Livingstone</td>\n      <td>ZM</td>\n      <td>2021-01-09 05:09:45</td>\n      <td>-17.8419</td>\n      <td>25.8543</td>\n      <td>70.03</td>\n      <td>93</td>\n      <td>100</td>\n      <td>4.81</td>\n    </tr>\n    <tr>\n      <th>25</th>\n      <td>25</td>\n      <td>Rikitea</td>\n      <td>PF</td>\n      <td>2021-01-09 05:09:45</td>\n      <td>-23.1203</td>\n      <td>-134.9692</td>\n      <td>78.31</td>\n      <td>76</td>\n      <td>82</td>\n      <td>9.84</td>\n    </tr>\n    <tr>\n      <th>27</th>\n      <td>27</td>\n      <td>Meulaboh</td>\n      <td>ID</td>\n      <td>2021-01-09 05:09:46</td>\n      <td>4.1363</td>\n      <td>96.1285</td>\n      <td>83.43</td>\n      <td>69</td>\n      <td>100</td>\n      <td>5.50</td>\n    </tr>\n  </tbody>\n</table>\n</div>"
     },
     "metadata": {},
     "execution_count": 18
    }
   ],
   "source": [
    "#Filter the data set to find the cities that fit the crieteria\n",
    "preferred_cities_df = city_data_df.loc[(city_data_df['Max Temp'] <= max_temp) & \\\n",
    "                                       (city_data_df['Max Temp'] >= min_temp)]\n",
    "preferred_cities_df.head(10)"
   ]
  },
  {
   "cell_type": "code",
   "execution_count": 19,
   "metadata": {},
   "outputs": [
    {
     "output_type": "execute_result",
     "data": {
      "text/plain": [
       "City_ID       197\n",
       "City          197\n",
       "Country       196\n",
       "Date          197\n",
       "Lat           197\n",
       "Lng           197\n",
       "Max Temp      197\n",
       "Humidity      197\n",
       "Cloudiness    197\n",
       "Wind Speed    197\n",
       "dtype: int64"
      ]
     },
     "metadata": {},
     "execution_count": 19
    }
   ],
   "source": [
    "preferred_cities_df.count()"
   ]
  },
  {
   "cell_type": "code",
   "execution_count": 20,
   "metadata": {},
   "outputs": [
    {
     "output_type": "execute_result",
     "data": {
      "text/plain": [
       "                        City Country  Max Temp      Lat       Lng Hotel Name\n",
       "0   Sao Gabriel Da Cachoeira      BR     70.20  -0.1303  -67.0892           \n",
       "8                       Hilo      US     73.40  19.7297 -155.0900           \n",
       "12                     Amapa      BR     71.42   1.0000  -52.0000           \n",
       "15                     Kapaa      US     72.00  22.0752 -159.3190           \n",
       "16                 Kontagora      NG     71.33  10.3999    5.4695           \n",
       "18                    Atuona      PF     77.67  -9.8000 -139.0333           \n",
       "20             Saint-Georges      GD     77.00  12.0564  -61.7485           \n",
       "22               Livingstone      ZM     70.03 -17.8419   25.8543           \n",
       "25                   Rikitea      PF     78.31 -23.1203 -134.9692           \n",
       "27                  Meulaboh      ID     83.43   4.1363   96.1285           "
      ],
      "text/html": "<div>\n<style scoped>\n    .dataframe tbody tr th:only-of-type {\n        vertical-align: middle;\n    }\n\n    .dataframe tbody tr th {\n        vertical-align: top;\n    }\n\n    .dataframe thead th {\n        text-align: right;\n    }\n</style>\n<table border=\"1\" class=\"dataframe\">\n  <thead>\n    <tr style=\"text-align: right;\">\n      <th></th>\n      <th>City</th>\n      <th>Country</th>\n      <th>Max Temp</th>\n      <th>Lat</th>\n      <th>Lng</th>\n      <th>Hotel Name</th>\n    </tr>\n  </thead>\n  <tbody>\n    <tr>\n      <th>0</th>\n      <td>Sao Gabriel Da Cachoeira</td>\n      <td>BR</td>\n      <td>70.20</td>\n      <td>-0.1303</td>\n      <td>-67.0892</td>\n      <td></td>\n    </tr>\n    <tr>\n      <th>8</th>\n      <td>Hilo</td>\n      <td>US</td>\n      <td>73.40</td>\n      <td>19.7297</td>\n      <td>-155.0900</td>\n      <td></td>\n    </tr>\n    <tr>\n      <th>12</th>\n      <td>Amapa</td>\n      <td>BR</td>\n      <td>71.42</td>\n      <td>1.0000</td>\n      <td>-52.0000</td>\n      <td></td>\n    </tr>\n    <tr>\n      <th>15</th>\n      <td>Kapaa</td>\n      <td>US</td>\n      <td>72.00</td>\n      <td>22.0752</td>\n      <td>-159.3190</td>\n      <td></td>\n    </tr>\n    <tr>\n      <th>16</th>\n      <td>Kontagora</td>\n      <td>NG</td>\n      <td>71.33</td>\n      <td>10.3999</td>\n      <td>5.4695</td>\n      <td></td>\n    </tr>\n    <tr>\n      <th>18</th>\n      <td>Atuona</td>\n      <td>PF</td>\n      <td>77.67</td>\n      <td>-9.8000</td>\n      <td>-139.0333</td>\n      <td></td>\n    </tr>\n    <tr>\n      <th>20</th>\n      <td>Saint-Georges</td>\n      <td>GD</td>\n      <td>77.00</td>\n      <td>12.0564</td>\n      <td>-61.7485</td>\n      <td></td>\n    </tr>\n    <tr>\n      <th>22</th>\n      <td>Livingstone</td>\n      <td>ZM</td>\n      <td>70.03</td>\n      <td>-17.8419</td>\n      <td>25.8543</td>\n      <td></td>\n    </tr>\n    <tr>\n      <th>25</th>\n      <td>Rikitea</td>\n      <td>PF</td>\n      <td>78.31</td>\n      <td>-23.1203</td>\n      <td>-134.9692</td>\n      <td></td>\n    </tr>\n    <tr>\n      <th>27</th>\n      <td>Meulaboh</td>\n      <td>ID</td>\n      <td>83.43</td>\n      <td>4.1363</td>\n      <td>96.1285</td>\n      <td></td>\n    </tr>\n  </tbody>\n</table>\n</div>"
     },
     "metadata": {},
     "execution_count": 20
    }
   ],
   "source": [
    "#Create a data frame called hotel_df to store hotel names along with city, country, max temp, and coordinates\n",
    "hotel_df = preferred_cities_df[['City', 'Country', 'Max Temp', 'Lat', 'Lng']].copy()\n",
    "hotel_df['Hotel Name'] = ''\n",
    "hotel_df.head(10)"
   ]
  },
  {
   "cell_type": "code",
   "execution_count": 21,
   "metadata": {},
   "outputs": [
    {
     "output_type": "stream",
     "name": "stdout",
     "text": [
      "Hotel not found... skipping.\n",
      "Hotel not found... skipping.\n",
      "Hotel not found... skipping.\n",
      "Hotel not found... skipping.\n",
      "Hotel not found... skipping.\n",
      "Hotel not found... skipping.\n",
      "Hotel not found... skipping.\n",
      "Hotel not found... skipping.\n",
      "Hotel not found... skipping.\n",
      "Hotel not found... skipping.\n",
      "Hotel not found... skipping.\n",
      "Hotel not found... skipping.\n"
     ]
    }
   ],
   "source": [
    "#Set parameters to search for a hotel\n",
    "params = {\n",
    "    'radius': 5000,\n",
    "    'type': 'lodging',\n",
    "    'key': g_key\n",
    "}\n",
    "\n",
    "#Iterate through the data frame\n",
    "for index, row in hotel_df.iterrows():\n",
    "    #Get the latitude and longitude\n",
    "    lat = row['Lat']\n",
    "    lng = row['Lng']\n",
    "    \n",
    "    #Add the latitude and longitude to location key for the params dictionary\n",
    "    params['location'] = f\"{lat},{lng}\"\n",
    "    \n",
    "    #Use the search term: \"lodging\" and our latitude and longitude\n",
    "    base_url = 'https://maps.googleapis.com/maps/api/place/nearbysearch/json'\n",
    "    #Make request and get the JSON data from the search\n",
    "    hotels = requests.get(base_url, params=params).json()\n",
    "    #Grab the first hotel from the results and store the name\n",
    "    try:\n",
    "        hotel_df.loc[index, 'Hotel Name'] = hotels['results'][0]['name']\n",
    "    except (IndexError):\n",
    "        print('Hotel not found... skipping.')"
   ]
  },
  {
   "cell_type": "code",
   "execution_count": 24,
   "metadata": {},
   "outputs": [
    {
     "output_type": "execute_result",
     "data": {
      "text/plain": [
       "                        City Country  Max Temp      Lat       Lng  \\\n",
       "0   Sao Gabriel Da Cachoeira      BR     70.20  -0.1303  -67.0892   \n",
       "8                       Hilo      US     73.40  19.7297 -155.0900   \n",
       "12                     Amapa      BR     71.42   1.0000  -52.0000   \n",
       "15                     Kapaa      US     72.00  22.0752 -159.3190   \n",
       "16                 Kontagora      NG     71.33  10.3999    5.4695   \n",
       "\n",
       "                                  Hotel Name  \n",
       "0   Alarne - Área De Lazer Do Alto Rio Negro  \n",
       "8                        Hilo Hawaiian Hotel  \n",
       "12                                            \n",
       "15    Sheraton Kauai Resort at Coconut Beach  \n",
       "16                             City Gate Inn  "
      ],
      "text/html": "<div>\n<style scoped>\n    .dataframe tbody tr th:only-of-type {\n        vertical-align: middle;\n    }\n\n    .dataframe tbody tr th {\n        vertical-align: top;\n    }\n\n    .dataframe thead th {\n        text-align: right;\n    }\n</style>\n<table border=\"1\" class=\"dataframe\">\n  <thead>\n    <tr style=\"text-align: right;\">\n      <th></th>\n      <th>City</th>\n      <th>Country</th>\n      <th>Max Temp</th>\n      <th>Lat</th>\n      <th>Lng</th>\n      <th>Hotel Name</th>\n    </tr>\n  </thead>\n  <tbody>\n    <tr>\n      <th>0</th>\n      <td>Sao Gabriel Da Cachoeira</td>\n      <td>BR</td>\n      <td>70.20</td>\n      <td>-0.1303</td>\n      <td>-67.0892</td>\n      <td>Alarne - Área De Lazer Do Alto Rio Negro</td>\n    </tr>\n    <tr>\n      <th>8</th>\n      <td>Hilo</td>\n      <td>US</td>\n      <td>73.40</td>\n      <td>19.7297</td>\n      <td>-155.0900</td>\n      <td>Hilo Hawaiian Hotel</td>\n    </tr>\n    <tr>\n      <th>12</th>\n      <td>Amapa</td>\n      <td>BR</td>\n      <td>71.42</td>\n      <td>1.0000</td>\n      <td>-52.0000</td>\n      <td></td>\n    </tr>\n    <tr>\n      <th>15</th>\n      <td>Kapaa</td>\n      <td>US</td>\n      <td>72.00</td>\n      <td>22.0752</td>\n      <td>-159.3190</td>\n      <td>Sheraton Kauai Resort at Coconut Beach</td>\n    </tr>\n    <tr>\n      <th>16</th>\n      <td>Kontagora</td>\n      <td>NG</td>\n      <td>71.33</td>\n      <td>10.3999</td>\n      <td>5.4695</td>\n      <td>City Gate Inn</td>\n    </tr>\n  </tbody>\n</table>\n</div>"
     },
     "metadata": {},
     "execution_count": 24
    }
   ],
   "source": [
    "\n",
    "hotel_df.head()"
   ]
  },
  {
   "cell_type": "code",
   "execution_count": 25,
   "metadata": {},
   "outputs": [
    {
     "output_type": "display_data",
     "data": {
      "text/plain": "Figure(layout=FigureLayout(height='420px'))",
      "application/vnd.jupyter.widget-view+json": {
       "version_major": 2,
       "version_minor": 0,
       "model_id": "e0aef7246455415183f39af39ae9eb06"
      }
     },
     "metadata": {}
    }
   ],
   "source": [
    "#Add a heatmap of temperature for vacation spots\n",
    "locations = hotel_df[['Lat', 'Lng']]\n",
    "max_temp = hotel_df['Max Temp']\n",
    "fig = gmaps.figure(center=(30.0, 31.0), zoom_level=1.5)\n",
    "heat_layer = gmaps.heatmap_layer(locations, weights=max_temp, dissipating=False, \n",
    "                                 max_intensity=300, point_radius=4)\n",
    "marker_layer = gmaps.marker_layer(locations)\n",
    "\n",
    "fig.add_layer(heat_layer)\n",
    "fig.add_layer(marker_layer)\n",
    "fig"
   ]
  },
  {
   "cell_type": "code",
   "execution_count": 26,
   "metadata": {},
   "outputs": [],
   "source": [
    "info_box_template = \"\"\"\n",
    "<dl>\n",
    "<dt>Hotel Name</dt><dd>{Hotel Name}</dd>\n",
    "<dt>City</dt><dd>{City}</dd>\n",
    "<dt>Country</dt><dd>{Country}</dd>\n",
    "<dt>Max Temp</dt><dd>{Max Temp} °F</dd>\n",
    "</dl>\n",
    "\"\"\"\n",
    "\n",
    "#Store the data frame row\n",
    "hotel_info = [info_box_template.format(**row) for index, row in hotel_df.iterrows()]"
   ]
  },
  {
   "cell_type": "code",
   "execution_count": 27,
   "metadata": {},
   "outputs": [
    {
     "output_type": "display_data",
     "data": {
      "text/plain": "Figure(layout=FigureLayout(height='420px'))",
      "application/vnd.jupyter.widget-view+json": {
       "version_major": 2,
       "version_minor": 0,
       "model_id": "4cb475f87dfd42a0998b3d561b118822"
      }
     },
     "metadata": {}
    }
   ],
   "source": [
    "# Add a heatmap of temperature for the vacation spots and a pop-up marker for each city.\n",
    "locations = hotel_df[[\"Lat\", \"Lng\"]]\n",
    "max_temp = hotel_df[\"Max Temp\"]\n",
    "fig = gmaps.figure(center=(30.0, 31.0), zoom_level=1.5)\n",
    "heat_layer = gmaps.heatmap_layer(locations, weights=max_temp,dissipating=False,\n",
    "             max_intensity=300, point_radius=4)\n",
    "marker_layer = gmaps.marker_layer(locations, info_box_content=hotel_info)\n",
    "fig.add_layer(heat_layer)\n",
    "fig.add_layer(marker_layer)\n",
    "\n",
    "# Call the figure to plot the data.\n",
    "fig"
   ]
  },
  {
   "cell_type": "code",
   "execution_count": null,
   "metadata": {},
   "outputs": [],
   "source": []
  }
 ]
}